{
 "cells": [
  {
   "metadata": {
    "ExecuteTime": {
     "end_time": "2025-10-02T22:12:21.522658Z",
     "start_time": "2025-10-02T22:12:21.519743Z"
    }
   },
   "cell_type": "code",
   "source": [
    "# imports\n",
    "import pandas as pd\n",
    "import numpy as np\n",
    "import matplotlib.pyplot as plt\n",
    "from sklearn.metrics.pairwise import cosine_similarity\n"
   ],
   "id": "b3e6ffadec6e5780",
   "outputs": [],
   "execution_count": 65
  },
  {
   "metadata": {
    "ExecuteTime": {
     "end_time": "2025-10-02T22:12:21.901014Z",
     "start_time": "2025-10-02T22:12:21.538356Z"
    }
   },
   "cell_type": "code",
   "source": [
    "# load ratings and movie metadata\n",
    "ratings_cols = [\"user_id\",\"item_id\",\"rating\",\"timestamp\"]\n",
    "ratings = pd.read_csv(\"ml-100k/u.data\", sep=\"\\t\", names=ratings_cols, engine=\"python\")\n",
    "items_cols = [\"item_id\",\"title\",\"release_date\",\"video_release_date\",\"imdb_url\",\"unknown\",\"Action\",\"Adventure\",\"Animation\",\"Children's\",\"Comedy\",\"Crime\",\"Documentary\",\"Drama\",\"Fantasy\",\"Film-Noir\",\"Horror\",\"Musical\",\"Mystery\",\"Romance\",\"Sci-Fi\",\"Thriller\",\"War\",\"Western\"]\n",
    "items = pd.read_csv(\"ml-100k/u.item\", sep=\"|\", names=items_cols, encoding=\"latin-1\")\n",
    "ratings = ratings.merge(items[[\"item_id\",\"title\"]], on=\"item_id\", how=\"left\")\n",
    "print(ratings.head())\n",
    "print(ratings.shape)\n"
   ],
   "id": "afc46c5a78710a6f",
   "outputs": [
    {
     "name": "stdout",
     "output_type": "stream",
     "text": [
      "   user_id  item_id  rating  timestamp                       title\n",
      "0      196      242       3  881250949                Kolya (1996)\n",
      "1      186      302       3  891717742    L.A. Confidential (1997)\n",
      "2       22      377       1  878887116         Heavyweights (1994)\n",
      "3      244       51       2  880606923  Legends of the Fall (1994)\n",
      "4      166      346       1  886397596         Jackie Brown (1997)\n",
      "(100000, 5)\n"
     ]
    }
   ],
   "execution_count": 66
  },
  {
   "metadata": {
    "ExecuteTime": {
     "end_time": "2025-10-02T22:12:21.998025Z",
     "start_time": "2025-10-02T22:12:21.907683Z"
    }
   },
   "cell_type": "code",
   "source": [
    "# basic exploration of rating distribution\n",
    "rating_counts = ratings['rating'].value_counts().sort_index()\n",
    "plt.figure(figsize=(6,4))\n",
    "plt.bar(rating_counts.index.astype(str), rating_counts.values, color=\"skyblue\")\n",
    "plt.xlabel(\"Rating\")\n",
    "plt.ylabel(\"Count\")\n",
    "plt.title(\"Rating Distribution\")\n",
    "plt.tight_layout()\n",
    "plt.show()\n",
    "print(rating_counts)\n"
   ],
   "id": "933ad1f1b9f7581d",
   "outputs": [
    {
     "data": {
      "text/plain": [
       "<Figure size 600x400 with 1 Axes>"
      ],
      "image/png": "[encoded data removed]"
     },
     "metadata": {},
     "output_type": "display_data",
     "jetTransient": {
      "display_id": null
     }
    },
    {
     "name": "stdout",
     "output_type": "stream",
     "text": [
      "rating\n",
      "1     6110\n",
      "2    11370\n",
      "3    27145\n",
      "4    34174\n",
      "5    21201\n",
      "Name: count, dtype: int64\n"
     ]
    }
   ],
   "execution_count": 67
  },
  {
   "metadata": {
    "ExecuteTime": {
     "end_time": "2025-10-02T22:12:22.049986Z",
     "start_time": "2025-10-02T22:12:22.005985Z"
    }
   },
   "cell_type": "code",
   "source": [
    "# build user item rating matrix\n",
    "user_item_matrix = ratings.pivot_table(index='user_id', columns='item_id', values='rating', aggfunc='mean')\n",
    "user_item_filled = user_item_matrix.fillna(0.0)\n",
    "print(user_item_filled.shape)\n"
   ],
   "id": "d0dd27e3ea1ec64e",
   "outputs": [
    {
     "name": "stdout",
     "output_type": "stream",
     "text": [
      "(943, 1682)\n"
     ]
    }
   ],
   "execution_count": 68
  },
  {
   "metadata": {
    "ExecuteTime": {
     "end_time": "2025-10-02T22:12:22.077838Z",
     "start_time": "2025-10-02T22:12:22.055810Z"
    }
   },
   "cell_type": "code",
   "source": [
    "# compute user user cosine similarity matrix\n",
    "user_vectors = user_item_filled.values\n",
    "similarity_matrix = cosine_similarity(user_vectors)\n",
    "np.fill_diagonal(similarity_matrix, 0.0)\n",
    "sim_df = pd.DataFrame(similarity_matrix, index=user_item_filled.index, columns=user_item_filled.index)\n",
    "print(sim_df.iloc[:5, :5])\n"
   ],
   "id": "a9502ccd0303b9dd",
   "outputs": [
    {
     "name": "stdout",
     "output_type": "stream",
     "text": [
      "user_id         1         2         3         4         5\n",
      "user_id                                                  \n",
      "1        0.000000  0.166931  0.047460  0.064358  0.378475\n",
      "2        0.166931  0.000000  0.110591  0.178121  0.072979\n",
      "3        0.047460  0.110591  0.000000  0.344151  0.021245\n",
      "4        0.064358  0.178121  0.344151  0.000000  0.031804\n",
      "5        0.378475  0.072979  0.021245  0.031804  0.000000\n"
     ]
    }
   ],
   "execution_count": 69
  },
  {
   "metadata": {
    "ExecuteTime": {
     "end_time": "2025-10-02T22:12:22.095889Z",
     "start_time": "2025-10-02T22:12:22.084166Z"
    }
   },
   "cell_type": "code",
   "source": [
    "# function to generate top n recommendations for a user based on weighted ratings from similar users\n",
    "def recommend_for_user(target_user_id, top_n=10, min_sim=0.0):\n",
    "    if target_user_id not in user_item_filled.index:\n",
    "        return []\n",
    "    user_index_map = {u: i for i, u in enumerate(user_item_filled.index)}\n",
    "    idx = user_index_map[target_user_id]\n",
    "    sims = similarity_matrix[idx]\n",
    "    rated_mask = user_item_filled.loc[target_user_id] > 0\n",
    "    unseen_items = user_item_filled.columns[~rated_mask]\n",
    "    if len(unseen_items) == 0:\n",
    "        return []\n",
    "    sims_filtered = np.where(sims >= min_sim, sims, 0)\n",
    "    if sims_filtered.sum() == 0:\n",
    "        return []\n",
    "    others_ratings = user_item_filled.loc[:, unseen_items].values\n",
    "    weighted_scores = sims_filtered @ others_ratings / (np.abs(sims_filtered).sum() + 1e-8)\n",
    "    recs = pd.DataFrame({\"item_id\": unseen_items, \"score\": weighted_scores})\n",
    "    recs = recs.sort_values(\"score\", ascending=False).head(top_n)\n",
    "    recs = recs.merge(items[[\"item_id\",\"title\"]], on=\"item_id\", how=\"left\")\n",
    "    return recs\n",
    "\n",
    "example_recs = recommend_for_user(1, top_n=10)\n",
    "print(example_recs)\n"
   ],
   "id": "faaf6af3a3494866",
   "outputs": [
    {
     "name": "stdout",
     "output_type": "stream",
     "text": [
      "   item_id     score                                   title\n",
      "0      318  2.044246                 Schindler's List (1993)\n",
      "1      423  1.879326       E.T. the Extra-Terrestrial (1982)\n",
      "2      357  1.799883  One Flew Over the Cuckoo's Nest (1975)\n",
      "3      286  1.749977             English Patient, The (1996)\n",
      "4      288  1.703413                           Scream (1996)\n",
      "5      483  1.697157                       Casablanca (1942)\n",
      "6      405  1.601258              Mission: Impossible (1996)\n",
      "7      294  1.583601                        Liar Liar (1997)\n",
      "8      496  1.530334            It's a Wonderful Life (1946)\n",
      "9      655  1.473604                      Stand by Me (1986)\n"
     ]
    }
   ],
   "execution_count": 70
  },
  {
   "metadata": {
    "ExecuteTime": {
     "end_time": "2025-10-02T22:12:22.125795Z",
     "start_time": "2025-10-02T22:12:22.102057Z"
    }
   },
   "cell_type": "code",
   "source": [
    "# simple demonstration of recommendations for a few users\n",
    "for uid in [1, 50, 100]:\n",
    "    print(\"User\", uid)\n",
    "    print(recommend_for_user(uid, top_n=5))\n",
    "    print()\n"
   ],
   "id": "331f1a4c40a639c6",
   "outputs": [
    {
     "name": "stdout",
     "output_type": "stream",
     "text": [
      "User 1\n",
      "   item_id     score                                   title\n",
      "0      318  2.044246                 Schindler's List (1993)\n",
      "1      423  1.879326       E.T. the Extra-Terrestrial (1982)\n",
      "2      357  1.799883  One Flew Over the Cuckoo's Nest (1975)\n",
      "3      286  1.749977             English Patient, The (1996)\n",
      "4      288  1.703413                           Scream (1996)\n",
      "\n",
      "User 50\n",
      "   item_id     score                      title\n",
      "0       50  2.553504           Star Wars (1977)\n",
      "1      258  2.248342             Contact (1997)\n",
      "2      127  2.023277      Godfather, The (1972)\n",
      "3      181  1.994444  Return of the Jedi (1983)\n",
      "4        7  1.890237      Twelve Monkeys (1995)\n",
      "\n",
      "User 100\n",
      "   item_id     score                      title\n",
      "0       50  1.856534           Star Wars (1977)\n",
      "1      100  1.611768               Fargo (1996)\n",
      "2      181  1.481284  Return of the Jedi (1983)\n",
      "3      748  1.455711          Saint, The (1997)\n",
      "4      127  1.310257      Godfather, The (1972)\n",
      "\n"
     ]
    }
   ],
   "execution_count": 71
  },
  {
   "metadata": {
    "ExecuteTime": {
     "end_time": "2025-10-02T22:12:22.463591Z",
     "start_time": "2025-10-02T22:12:22.131366Z"
    }
   },
   "cell_type": "code",
   "source": [
    "# prepare train test split per user for evaluation\n",
    "rng = np.random.default_rng(42)\n",
    "ratings_sorted = ratings.sort_values(['user_id','timestamp'])\n",
    "train_list = []\n",
    "test_list = []\n",
    "for uid, grp in ratings_sorted.groupby('user_id'):\n",
    "    if len(grp) <= 5:\n",
    "        train_list.append(grp)\n",
    "        continue\n",
    "    test_size = max(1, int(0.2 * len(grp)))\n",
    "    test_idx = rng.choice(grp.index, size=test_size, replace=False)\n",
    "    test_grp = grp.loc[test_idx]\n",
    "    train_grp = grp.drop(test_idx)\n",
    "    train_list.append(train_grp)\n",
    "    test_list.append(test_grp)\n",
    "train_ratings = pd.concat(train_list).reset_index(drop=True)\n",
    "test_ratings = pd.concat(test_list).reset_index(drop=True)\n",
    "print(train_ratings.shape, test_ratings.shape)\n"
   ],
   "id": "8dba11d589cc8190",
   "outputs": [
    {
     "name": "stdout",
     "output_type": "stream",
     "text": [
      "(80367, 5) (19633, 5)\n"
     ]
    }
   ],
   "execution_count": 72
  },
  {
   "metadata": {
    "ExecuteTime": {
     "end_time": "2025-10-02T22:12:22.522109Z",
     "start_time": "2025-10-02T22:12:22.471762Z"
    }
   },
   "cell_type": "code",
   "source": [
    "# rebuild matrices on train data only\n",
    "train_user_item = train_ratings.pivot_table(index='user_id', columns='item_id', values='rating', aggfunc='mean')\n",
    "train_user_item_filled = train_user_item.fillna(0.0)\n",
    "train_vectors = train_user_item_filled.values\n",
    "train_similarity = cosine_similarity(train_vectors)\n",
    "np.fill_diagonal(train_similarity, 0.0)\n",
    "train_sim_df = pd.DataFrame(train_similarity, index=train_user_item_filled.index, columns=train_user_item_filled.index)\n",
    "print(train_sim_df.shape)\n"
   ],
   "id": "f61765d9199a6982",
   "outputs": [
    {
     "name": "stdout",
     "output_type": "stream",
     "text": [
      "(943, 943)\n"
     ]
    }
   ],
   "execution_count": 73
  },
  {
   "metadata": {
    "ExecuteTime": {
     "end_time": "2025-10-02T22:12:22.541340Z",
     "start_time": "2025-10-02T22:12:22.530297Z"
    }
   },
   "cell_type": "code",
   "source": [
    "# recommendation function using train artifacts for evaluation\n",
    "user_index_map_eval = {u: i for i, u in enumerate(train_user_item_filled.index)}\n",
    "\n",
    "def recommend_eval(user_id, top_k=10, min_sim=0.0):\n",
    "    if user_id not in train_user_item_filled.index:\n",
    "        return []\n",
    "    idx = user_index_map_eval[user_id]\n",
    "    sims = train_similarity[idx]\n",
    "    rated_mask = train_user_item_filled.loc[user_id] > 0\n",
    "    unseen_items = train_user_item_filled.columns[~rated_mask]\n",
    "    if len(unseen_items) == 0:\n",
    "        return []\n",
    "    sims_filtered = np.where(sims >= min_sim, sims, 0)\n",
    "    if sims_filtered.sum() == 0:\n",
    "        return []\n",
    "    others_ratings = train_user_item_filled.loc[:, unseen_items].values\n",
    "    weighted_scores = sims_filtered @ others_ratings / (np.abs(sims_filtered).sum() + 1e-8)\n",
    "    recs = pd.DataFrame({\"item_id\": unseen_items, \"score\": weighted_scores})\n",
    "    recs = recs.sort_values(\"score\", ascending=False).head(top_k)\n",
    "    return recs['item_id'].tolist()\n",
    "\n",
    "print(recommend_eval(1, top_k=5)[:5])\n"
   ],
   "id": "a0aa7f6dd77ba2d3",
   "outputs": [
    {
     "name": "stdout",
     "output_type": "stream",
     "text": [
      "[50, 318, 423, 191, 357]\n"
     ]
    }
   ],
   "execution_count": 74
  },
  {
   "metadata": {
    "ExecuteTime": {
     "end_time": "2025-10-02T22:12:33.417331Z",
     "start_time": "2025-10-02T22:12:22.548129Z"
    }
   },
   "cell_type": "code",
   "source": [
    "# compute precision at k across users\n",
    "def precision_at_k(k=5, threshold=4):\n",
    "    user_relevant = test_ratings[test_ratings['rating'] >= threshold].groupby('user_id')['item_id'].apply(set)\n",
    "    users = train_user_item_filled.index\n",
    "    precisions = []\n",
    "    for u in users:\n",
    "        recs = recommend_eval(u, top_k=k)\n",
    "        if len(recs) == 0:\n",
    "            continue\n",
    "        rel = user_relevant.get(u, set())\n",
    "        if len(rel) == 0:\n",
    "            continue\n",
    "        hit_count = sum(1 for r in recs if r in rel)\n",
    "        precisions.append(hit_count / k)\n",
    "    if len(precisions) == 0:\n",
    "        return 0.0\n",
    "    return float(np.mean(precisions))\n",
    "\n",
    "for k in [3,5,10]:\n",
    "    print(\"Precision@\", k, \":\", precision_at_k(k))\n"
   ],
   "id": "ab5b18028c0ca4be",
   "outputs": [
    {
     "name": "stdout",
     "output_type": "stream",
     "text": [
      "Precision@ 3 : 0.27843559382848937\n",
      "Precision@ 5 : 0.2378902045209903\n",
      "Precision@ 10 : 0.1953713670613563\n"
     ]
    }
   ],
   "execution_count": 75
  },
  {
   "metadata": {
    "ExecuteTime": {
     "end_time": "2025-10-02T22:12:33.580526Z",
     "start_time": "2025-10-02T22:12:33.570081Z"
    }
   },
   "cell_type": "code",
   "source": [
    "# show sample recommended movie titles after evaluation\n",
    "print(recommend_for_user(1, top_n=10))\n"
   ],
   "id": "8423fc375cf9bdc8",
   "outputs": [
    {
     "name": "stdout",
     "output_type": "stream",
     "text": [
      "   item_id     score                                   title\n",
      "0      318  2.044246                 Schindler's List (1993)\n",
      "1      423  1.879326       E.T. the Extra-Terrestrial (1982)\n",
      "2      357  1.799883  One Flew Over the Cuckoo's Nest (1975)\n",
      "3      286  1.749977             English Patient, The (1996)\n",
      "4      288  1.703413                           Scream (1996)\n",
      "5      483  1.697157                       Casablanca (1942)\n",
      "6      405  1.601258              Mission: Impossible (1996)\n",
      "7      294  1.583601                        Liar Liar (1997)\n",
      "8      496  1.530334            It's a Wonderful Life (1946)\n",
      "9      655  1.473604                      Stand by Me (1986)\n"
     ]
    }
   ],
   "execution_count": 76
  },
  {
   "metadata": {
    "ExecuteTime": {
     "end_time": "2025-10-02T22:12:33.982474Z",
     "start_time": "2025-10-02T22:12:33.586867Z"
    }
   },
   "cell_type": "code",
   "source": [
    "# compute popularity baseline precision at k\n",
    "popularity_order = train_ratings.groupby('item_id')['rating'].mean().sort_values(ascending=False).index.tolist()\n",
    "train_user_items_sets = {u: set(train_ratings[train_ratings.user_id==u].item_id) for u in train_ratings.user_id.unique()}\n",
    "\n",
    "def popularity_precision_at_k(k=5, threshold=4):\n",
    "    user_relevant = test_ratings[test_ratings['rating'] >= threshold].groupby('user_id')['item_id'].apply(set)\n",
    "    precisions = []\n",
    "    for u in train_user_item_filled.index:\n",
    "        rel = user_relevant.get(u, set())\n",
    "        if len(rel) == 0:\n",
    "            continue\n",
    "        rated = train_user_items_sets.get(u, set())\n",
    "        recs = [it for it in popularity_order if it not in rated][:k]\n",
    "        if len(recs) == 0:\n",
    "            continue\n",
    "        hit_count = sum(1 for r in recs if r in rel)\n",
    "        precisions.append(hit_count / k)\n",
    "    if len(precisions) == 0:\n",
    "        return 0.0\n",
    "    return float(np.mean(precisions))\n",
    "\n",
    "for k in [3,5,10]:\n",
    "    print(\"Popularity Precision@\", k, \":\", popularity_precision_at_k(k))\n"
   ],
   "id": "f5f736bb595b6712",
   "outputs": [
    {
     "name": "stdout",
     "output_type": "stream",
     "text": [
      "Popularity Precision@ 3 : 0.0\n",
      "Popularity Precision@ 5 : 0.0\n",
      "Popularity Precision@ 10 : 0.0\n"
     ]
    }
   ],
   "execution_count": 77
  },
  {
   "metadata": {
    "ExecuteTime": {
     "end_time": "2025-10-02T22:12:34.203965Z",
     "start_time": "2025-10-02T22:12:33.994197Z"
    }
   },
   "cell_type": "code",
   "source": [
    "# diagnostics for zero popularity precision\n",
    "threshold = 4\n",
    "user_relevant = test_ratings[test_ratings['rating'] >= threshold].groupby('user_id')['item_id'].apply(set)\n",
    "eligible_users = [u for u in train_user_item_filled.index if len(user_relevant.get(u, set())) > 0]\n",
    "print('Eligible users with at least one relevant test item:', len(eligible_users))\n",
    "for k in [3,5,10]:\n",
    "    hit_users = 0\n",
    "    total_hits = 0\n",
    "    for u in eligible_users:\n",
    "        rel = user_relevant.get(u, set())\n",
    "        rated = train_user_items_sets.get(u, set())\n",
    "        recs = [it for it in popularity_order if it not in rated][:k]\n",
    "        hits = sum(1 for r in recs if r in rel)\n",
    "        if hits > 0:\n",
    "            hit_users += 1\n",
    "        total_hits += hits\n",
    "    print(f'K={k} users_with_hit={hit_users} total_hits={total_hits}')\n",
    "\n",
    "sample_users = eligible_users[:5]\n",
    "print('Sample user details:')\n",
    "for u in sample_users:\n",
    "    rel = user_relevant.get(u, set())\n",
    "    rated = train_user_items_sets.get(u, set())\n",
    "    recs5 = [it for it in popularity_order if it not in rated][:5]\n",
    "    print({'user': u, 'relevant_test_items': list(rel)[:8], 'recs5': recs5})\n"
   ],
   "id": "af60754b1aebccdc",
   "outputs": [
    {
     "name": "stdout",
     "output_type": "stream",
     "text": [
      "Eligible users with at least one relevant test item: 929\n",
      "K=3 users_with_hit=0 total_hits=0\n",
      "K=5 users_with_hit=0 total_hits=0\n",
      "K=10 users_with_hit=0 total_hits=0\n",
      "Sample user details:\n",
      "{'user': 1, 'relevant_test_items': [129, 257, 267, 15, 154, 43, 46, 47], 'recs5': [1653, 1656, 1122, 1293, 1536]}\n",
      "{'user': 2, 'relevant_test_items': [1, 251, 25, 303], 'recs5': [1653, 1656, 1122, 1293, 1536]}\n",
      "{'user': 3, 'relevant_test_items': [260], 'recs5': [1653, 1656, 1122, 1293, 1536]}\n",
      "{'user': 4, 'relevant_test_items': [288, 329, 50, 294], 'recs5': [1653, 1656, 1122, 1293, 1536]}\n",
      "{'user': 5, 'relevant_test_items': [385, 228, 390, 169, 173, 430, 208, 209], 'recs5': [1653, 1656, 1122, 1293, 1536]}\n"
     ]
    }
   ],
   "execution_count": 78
  },
  {
   "metadata": {
    "ExecuteTime": {
     "end_time": "2025-10-02T22:12:34.349831Z",
     "start_time": "2025-10-02T22:12:34.209844Z"
    }
   },
   "cell_type": "code",
   "source": [
    "# improved popularity baseline with minimum rating count filter\n",
    "item_stats = train_ratings.groupby('item_id')['rating'].agg(['mean','count'])\n",
    "min_count = 20\n",
    "filtered_items = item_stats[item_stats['count'] >= min_count].sort_values('mean', ascending=False).index.tolist()\n",
    "\n",
    "def popularity_min_count_precision_at_k(k=5, threshold=4):\n",
    "    user_relevant_local = test_ratings[test_ratings['rating'] >= threshold].groupby('user_id')['item_id'].apply(set)\n",
    "    precisions = []\n",
    "    for u in train_user_item_filled.index:\n",
    "        rel = user_relevant_local.get(u, set())\n",
    "        if len(rel) == 0:\n",
    "            continue\n",
    "        rated = train_user_items_sets.get(u, set())\n",
    "        recs = [it for it in filtered_items if it not in rated][:k]\n",
    "        if len(recs) == 0:\n",
    "            continue\n",
    "        hit_count = sum(1 for r in recs if r in rel)\n",
    "        precisions.append(hit_count / k)\n",
    "    if len(precisions) == 0:\n",
    "        return 0.0\n",
    "    return float(np.mean(precisions))\n",
    "\n",
    "for k in [3,5,10]:\n",
    "    print('Popularity (min_count) Precision@', k, ':', popularity_min_count_precision_at_k(k))\n"
   ],
   "id": "4a69e1bd7ff531c",
   "outputs": [
    {
     "name": "stdout",
     "output_type": "stream",
     "text": [
      "Popularity (min_count) Precision@ 3 : 0.06602081090778615\n",
      "Popularity (min_count) Precision@ 5 : 0.06372443487621099\n",
      "Popularity (min_count) Precision@ 10 : 0.06501614639397202\n"
     ]
    }
   ],
   "execution_count": 79
  },
  {
   "metadata": {
    "ExecuteTime": {
     "end_time": "2025-10-02T22:12:34.558717Z",
     "start_time": "2025-10-02T22:12:34.361684Z"
    }
   },
   "cell_type": "code",
   "source": [
    "# popularity baseline using rating frequency (most rated items) precision\n",
    "most_rated_order = item_stats.sort_values('count', ascending=False).index.tolist()\n",
    "\n",
    "def popularity_frequency_precision_at_k(k=5, threshold=4):\n",
    "    user_relevant_local = test_ratings[test_ratings['rating'] >= threshold].groupby('user_id')['item_id'].apply(set)\n",
    "    precisions = []\n",
    "    for u in train_user_item_filled.index:\n",
    "        rel = user_relevant_local.get(u, set())\n",
    "        if len(rel) == 0:\n",
    "            continue\n",
    "        rated = train_user_items_sets.get(u, set())\n",
    "        recs = [it for it in most_rated_order if it not in rated][:k]\n",
    "        if len(recs) == 0:\n",
    "            continue\n",
    "        hit_count = sum(1 for r in recs if r in rel)\n",
    "        precisions.append(hit_count / k)\n",
    "    if len(precisions) == 0:\n",
    "        return 0.0\n",
    "    return float(np.mean(precisions))\n",
    "\n",
    "for k in [3,5,10]:\n",
    "    print('Popularity (frequency) Precision@', k, ':', popularity_frequency_precision_at_k(k))\n"
   ],
   "id": "1c10ce868a2d7aa7",
   "outputs": [
    {
     "name": "stdout",
     "output_type": "stream",
     "text": [
      "Popularity (frequency) Precision@ 3 : 0.16325798349479725\n",
      "Popularity (frequency) Precision@ 5 : 0.15069967707212056\n",
      "Popularity (frequency) Precision@ 10 : 0.13433799784714748\n"
     ]
    }
   ],
   "execution_count": 80
  },
  {
   "metadata": {
    "ExecuteTime": {
     "end_time": "2025-10-02T22:12:34.599095Z",
     "start_time": "2025-10-02T22:12:34.564979Z"
    }
   },
   "cell_type": "code",
   "source": [
    "# build item similarity matrix from train data\n",
    "item_user_matrix = train_user_item_filled.T  # items x users\n",
    "item_vectors = item_user_matrix.values\n",
    "item_similarity = cosine_similarity(item_vectors)\n",
    "np.fill_diagonal(item_similarity, 0.0)\n",
    "item_sim_df = pd.DataFrame(item_similarity, index=item_user_matrix.index, columns=item_user_matrix.index)\n",
    "print(item_sim_df.shape)\n",
    "print(item_sim_df.iloc[:5, :5])\n"
   ],
   "id": "53f5baeaa4b0d588",
   "outputs": [
    {
     "name": "stdout",
     "output_type": "stream",
     "text": [
      "(1648, 1648)\n",
      "item_id         1         2         3         4         5\n",
      "item_id                                                  \n",
      "1        0.000000  0.310323  0.276136  0.361735  0.261923\n",
      "2        0.310323  0.000000  0.237137  0.400206  0.227974\n",
      "3        0.276136  0.237137  0.000000  0.298860  0.182153\n",
      "4        0.361735  0.400206  0.298860  0.000000  0.282819\n",
      "5        0.261923  0.227974  0.182153  0.282819  0.000000\n"
     ]
    }
   ],
   "execution_count": 81
  },
  {
   "metadata": {
    "ExecuteTime": {
     "end_time": "2025-10-02T22:12:35.248051Z",
     "start_time": "2025-10-02T22:12:34.606509Z"
    }
   },
   "cell_type": "code",
   "source": [
    "# item based recommendation function\n",
    "def recommend_item_based(user_id, top_k=10, top_n_neighbors=50, min_sim=0.0):\n",
    "    if user_id not in train_user_item_filled.index:\n",
    "        return []\n",
    "    user_ratings = train_user_item.loc[user_id]\n",
    "    rated_items = user_ratings[user_ratings.notna()].index.tolist()\n",
    "    if len(rated_items) == 0:\n",
    "        return []\n",
    "    all_items = train_user_item_filled.columns\n",
    "    unseen = [it for it in all_items if it not in rated_items]\n",
    "    if not unseen:\n",
    "        return []\n",
    "    scores = []\n",
    "    rated_idx_map = {it: i for i, it in enumerate(item_user_matrix.index)}\n",
    "    for it in unseen:\n",
    "        if it not in item_sim_df.index:\n",
    "            continue\n",
    "        sims = item_sim_df.loc[it, rated_items]\n",
    "        sims_filtered = sims[sims >= min_sim]\n",
    "        if sims_filtered.empty:\n",
    "            continue\n",
    "        top_sims = sims_filtered.sort_values(ascending=False).head(top_n_neighbors)\n",
    "        rated_vals = user_ratings.loc[top_sims.index].fillna(0.0)\n",
    "        denom = np.abs(top_sims.values).sum()\n",
    "        if denom == 0:\n",
    "            continue\n",
    "        score = (top_sims.values * rated_vals.values).sum() / denom\n",
    "        scores.append((it, score))\n",
    "    if len(scores) == 0:\n",
    "        return []\n",
    "    recs = pd.DataFrame(scores, columns=['item_id','score']).sort_values('score', ascending=False).head(top_k)\n",
    "    recs = recs.merge(items[['item_id','title']], on='item_id', how='left')\n",
    "    return recs\n",
    "\n",
    "print(recommend_item_based(1, top_k=5))\n"
   ],
   "id": "837a84278557a26a",
   "outputs": [
    {
     "name": "stdout",
     "output_type": "stream",
     "text": [
      "   item_id     score                                           title\n",
      "0      297  4.445723                              Ulee's Gold (1997)\n",
      "1     1149  4.405682                                Walkabout (1971)\n",
      "2     1068  4.400039  Star Maker, The (Uomo delle stelle, L') (1995)\n",
      "3      919  4.399153               City of Lost Children, The (1995)\n",
      "4     1241  4.391196                                 Van, The (1996)\n"
     ]
    }
   ],
   "execution_count": 82
  },
  {
   "metadata": {
    "ExecuteTime": {
     "end_time": "2025-10-02T22:44:18.193482Z",
     "start_time": "2025-10-02T22:12:35.259880Z"
    }
   },
   "cell_type": "code",
   "source": [
    "# precision evaluation for item based collaborative filtering\n",
    "def item_precision_at_k(k=5, threshold=4):\n",
    "    user_relevant_local = test_ratings[test_ratings['rating'] >= threshold].groupby('user_id')['item_id'].apply(set)\n",
    "    precisions = []\n",
    "    for u in train_user_item_filled.index:\n",
    "        rec_df = recommend_item_based(u, top_k=k)\n",
    "        if isinstance(rec_df, list) or len(rec_df) == 0:\n",
    "            continue\n",
    "        recs = rec_df['item_id'].tolist()\n",
    "        rel = user_relevant_local.get(u, set())\n",
    "        if len(rel) == 0:\n",
    "            continue\n",
    "        hit_count = sum(1 for r in recs if r in rel)\n",
    "        precisions.append(hit_count / k)\n",
    "    if len(precisions) == 0:\n",
    "        return 0.0\n",
    "    return float(np.mean(precisions))\n",
    "\n",
    "for k in [3,5,10]:\n",
    "    print('ItemCF Precision@', k, ':', item_precision_at_k(k))\n"
   ],
   "id": "b34b50057c21b48e",
   "outputs": [
    {
     "name": "stdout",
     "output_type": "stream",
     "text": [
      "ItemCF Precision@ 3 : 0.023322569070685324\n",
      "ItemCF Precision@ 5 : 0.02691065662002153\n",
      "ItemCF Precision@ 10 : 0.02852529601722282\n"
     ]
    }
   ],
   "execution_count": 83
  },
  {
   "metadata": {
    "ExecuteTime": {
     "end_time": "2025-10-02T22:44:18.909672Z",
     "start_time": "2025-10-02T22:44:18.403673Z"
    }
   },
   "cell_type": "code",
   "source": [
    "# matrix factorization via truncated svd on train user item matrix\n",
    "rank = 50\n",
    "M = train_user_item_filled.values  # users x items\n",
    "U, S, Vt = np.linalg.svd(M, full_matrices=False)\n",
    "U_k = U[:, :rank]\n",
    "S_k = S[:rank]\n",
    "Vt_k = Vt[:rank, :]\n",
    "reconstructed = (U_k * S_k) @ Vt_k\n",
    "svd_pred_df = pd.DataFrame(reconstructed, index=train_user_item_filled.index, columns=train_user_item_filled.columns)\n",
    "print(svd_pred_df.shape)\n"
   ],
   "id": "ca9c9a22efdea185",
   "outputs": [
    {
     "name": "stdout",
     "output_type": "stream",
     "text": [
      "(943, 1648)\n"
     ]
    }
   ],
   "execution_count": 84
  },
  {
   "metadata": {
    "ExecuteTime": {
     "end_time": "2025-10-02T22:44:18.931465Z",
     "start_time": "2025-10-02T22:44:18.922169Z"
    }
   },
   "cell_type": "code",
   "source": [
    "# svd based recommendation function\n",
    "def recommend_svd(user_id, top_k=10):\n",
    "    if user_id not in svd_pred_df.index:\n",
    "        return []\n",
    "    user_row_pred = svd_pred_df.loc[user_id]\n",
    "    rated_mask = train_user_item_filled.loc[user_id] > 0\n",
    "    unseen_scores = user_row_pred[~rated_mask]\n",
    "    if unseen_scores.empty:\n",
    "        return []\n",
    "    recs = unseen_scores.sort_values(ascending=False).head(top_k).reset_index()\n",
    "    recs.columns = ['item_id','score']\n",
    "    recs = recs.merge(items[['item_id','title']], on='item_id', how='left')\n",
    "    return recs\n",
    "\n",
    "print(recommend_svd(1, top_k=5))\n"
   ],
   "id": "b8381769ab25cc7c",
   "outputs": [
    {
     "name": "stdout",
     "output_type": "stream",
     "text": [
      "   item_id     score                                              title\n",
      "0      433  3.722587                                    Heathers (1989)\n",
      "1      408  3.097554                              Close Shave, A (1995)\n",
      "2      508  2.931363                 People vs. Larry Flynt, The (1996)\n",
      "3      462  2.708822  Like Water For Chocolate (Como agua para choco...\n",
      "4      684  2.455960                         In the Line of Fire (1993)\n"
     ]
    }
   ],
   "execution_count": 85
  },
  {
   "metadata": {
    "ExecuteTime": {
     "end_time": "2025-10-02T22:44:23.470844Z",
     "start_time": "2025-10-02T22:44:18.942205Z"
    }
   },
   "cell_type": "code",
   "source": [
    "# precision evaluation for svd recommender\n",
    "def svd_precision_at_k(k=5, threshold=4):\n",
    "    user_relevant_local = test_ratings[test_ratings['rating'] >= threshold].groupby('user_id')['item_id'].apply(set)\n",
    "    precisions = []\n",
    "    for u in train_user_item_filled.index:\n",
    "        rec_df = recommend_svd(u, top_k=k)\n",
    "        if isinstance(rec_df, list) or len(rec_df) == 0:\n",
    "            continue\n",
    "        recs = rec_df['item_id'].tolist()\n",
    "        rel = user_relevant_local.get(u, set())\n",
    "        if len(rel) == 0:\n",
    "            continue\n",
    "        hit_count = sum(1 for r in recs if r in rel)\n",
    "        precisions.append(hit_count / k)\n",
    "    if len(precisions) == 0:\n",
    "        return 0.0\n",
    "    return float(np.mean(precisions))\n",
    "\n",
    "for k in [3,5,10]:\n",
    "    print('SVD Precision@', k, ':', svd_precision_at_k(k))\n"
   ],
   "id": "797bb372f03905af",
   "outputs": [
    {
     "name": "stdout",
     "output_type": "stream",
     "text": [
      "SVD Precision@ 3 : 0.30893433799784714\n",
      "SVD Precision@ 5 : 0.27491926803013994\n",
      "SVD Precision@ 10 : 0.22055974165769646\n"
     ]
    }
   ],
   "execution_count": 86
  },
  {
   "metadata": {
    "ExecuteTime": {
     "end_time": "2025-10-02T23:05:20.235781Z",
     "start_time": "2025-10-02T22:44:23.639212Z"
    }
   },
   "cell_type": "code",
   "source": [
    "# summary comparison across methods\n",
    "for k in [5,10]:\n",
    "    user_cf = precision_at_k(k)\n",
    "    item_cf = item_precision_at_k(k)\n",
    "    svd_cf = svd_precision_at_k(k)\n",
    "    pop_mean = popularity_precision_at_k(k)\n",
    "    pop_freq = popularity_frequency_precision_at_k(k)\n",
    "    print(f'K={k} UserCF={user_cf:.4f} ItemCF={item_cf:.4f} SVD={svd_cf:.4f} PopMean={pop_mean:.4f} PopFreq={pop_freq:.4f}')\n",
    "\n"
   ],
   "id": "76302f0042149598",
   "outputs": [
    {
     "name": "stdout",
     "output_type": "stream",
     "text": [
      "K=5 UserCF=0.2379 ItemCF=0.0269 SVD=0.2749 PopMean=0.0000 PopFreq=0.1507\n",
      "K=10 UserCF=0.1954 ItemCF=0.0285 SVD=0.2206 PopMean=0.0000 PopFreq=0.1343\n"
     ]
    }
   ],
   "execution_count": 87
  }
 ],
 "metadata": {
  "kernelspec": {
   "display_name": "Python 3",
   "language": "python",
   "name": "python3"
  },
  "language_info": {
   "codemirror_mode": {
    "name": "ipython",
    "version": 2
   },
   "file_extension": ".py",
   "mimetype": "text/x-python",
   "name": "python",
   "nbconvert_exporter": "python",
   "pygments_lexer": "ipython2",
   "version": "2.7.6"
  }
 },
 "nbformat": 4,
 "nbformat_minor": 5
}
